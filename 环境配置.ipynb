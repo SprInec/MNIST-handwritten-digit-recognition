{
 "cells": [
  {
   "cell_type": "markdown",
   "metadata": {},
   "source": [
    "# 环境配置\n",
    "\n",
    "默认已安装 [Anaconda](https://www.anaconda.com/)\n",
    "\n",
    "撰写该文档的测试环境：\n",
    "\n",
    "- OS：Windows 11\n",
    "- GPU：NVIDIA MAX450\n",
    "- CUDA：10.2"
   ]
  },
  {
   "cell_type": "markdown",
   "metadata": {},
   "source": [
    "## 1. 创建 conda 环境\n",
    "下面的命令**在终端执行**:\n",
    "\n",
    "```\n",
    "# 创建环境\n",
    "conda create --name mnist_hdwritten_rec python=3.8 -y\n",
    "conda activate mnist_hdwritten_rec\n",
    "\n",
    "# 安装 jupyter 内核\n",
    "pip install ipykernel\n",
    "```"
   ]
  },
  {
   "cell_type": "markdown",
   "metadata": {},
   "source": [
    "创建好环境后, Jupyter notebook 的内核记得选择为上面所创的环境."
   ]
  },
  {
   "cell_type": "markdown",
   "metadata": {},
   "source": [
    "## 2. 安装 Pytorch \n",
    "\n",
    "- torch: 1.10.1\n",
    "- torchaudio: 0.10.1\n",
    "- torchvision: 0.11.2\n",
    "- cuda: 10.2"
   ]
  },
  {
   "cell_type": "code",
   "metadata": {
    "ExecuteTime": {
     "end_time": "2025-03-01T08:08:35.870710Z",
     "start_time": "2025-03-01T08:06:55.952861Z"
    }
   },
   "source": [
    "%pip install \"pytorch/torch-1.10.1+cu102-cp38-cp38-win_amd64.whl\"\n",
    "%pip install \"pytorch/torchaudio-0.10.1+cu102-cp38-cp38-win_amd64.whl\"\n",
    "%pip install \"pytorch/torchvision-0.11.2+cu102-cp38-cp38-win_amd64.whl\""
   ],
   "outputs": [
    {
     "name": "stdout",
     "output_type": "stream",
     "text": [
      "Looking in indexes: http://mirrors.aliyun.com/pypi/simple/\n",
      "Processing f:\\github\\mnist-handwritten-digit-recognition\\pytorch\\torch-1.10.1+cu102-cp38-cp38-win_amd64.whl\n",
      "Requirement already satisfied: typing-extensions in d:\\anaconda\\anaconda\\envs\\mnist_hdwritten_rec\\lib\\site-packages (from torch==1.10.1+cu102) (4.12.2)\n",
      "Installing collected packages: torch\n",
      "Successfully installed torch-1.10.1+cu102\n",
      "Note: you may need to restart the kernel to use updated packages.\n",
      "Looking in indexes: http://mirrors.aliyun.com/pypi/simple/\n",
      "Processing f:\\github\\mnist-handwritten-digit-recognition\\pytorch\\torchaudio-0.10.1+cu102-cp38-cp38-win_amd64.whl\n",
      "Requirement already satisfied: torch==1.10.1 in d:\\anaconda\\anaconda\\envs\\mnist_hdwritten_rec\\lib\\site-packages (from torchaudio==0.10.1+cu102) (1.10.1+cu102)\n",
      "Requirement already satisfied: typing-extensions in d:\\anaconda\\anaconda\\envs\\mnist_hdwritten_rec\\lib\\site-packages (from torch==1.10.1->torchaudio==0.10.1+cu102) (4.12.2)\n",
      "Installing collected packages: torchaudio\n",
      "Successfully installed torchaudio-0.10.1+cu102\n",
      "Note: you may need to restart the kernel to use updated packages.\n",
      "Looking in indexes: http://mirrors.aliyun.com/pypi/simple/\n",
      "Processing f:\\github\\mnist-handwritten-digit-recognition\\pytorch\\torchvision-0.11.2+cu102-cp38-cp38-win_amd64.whl\n",
      "Collecting numpy (from torchvision==0.11.2+cu102)\n",
      "  Downloading http://mirrors.aliyun.com/pypi/packages/69/65/0d47953afa0ad569d12de5f65d964321c208492064c38fe3b0b9744f8d44/numpy-1.24.4-cp38-cp38-win_amd64.whl (14.9 MB)\n",
      "     ---------------------------------------- 0.0/14.9 MB ? eta -:--:--\n",
      "     -- ------------------------------------- 0.8/14.9 MB 4.8 MB/s eta 0:00:03\n",
      "     ----- ---------------------------------- 2.1/14.9 MB 6.5 MB/s eta 0:00:02\n",
      "     ----------- ---------------------------- 4.5/14.9 MB 7.7 MB/s eta 0:00:02\n",
      "     ---------------- ----------------------- 6.3/14.9 MB 8.0 MB/s eta 0:00:02\n",
      "     ------------------- -------------------- 7.1/14.9 MB 7.2 MB/s eta 0:00:02\n",
      "     ------------------- -------------------- 7.3/14.9 MB 6.6 MB/s eta 0:00:02\n",
      "     ---------------------- ----------------- 8.4/14.9 MB 5.9 MB/s eta 0:00:02\n",
      "     -------------------------- ------------- 9.7/14.9 MB 6.0 MB/s eta 0:00:01\n",
      "     ---------------------------- ----------- 10.7/14.9 MB 5.8 MB/s eta 0:00:01\n",
      "     ------------------------------- -------- 11.8/14.9 MB 5.8 MB/s eta 0:00:01\n",
      "     ----------------------------------- ---- 13.1/14.9 MB 5.8 MB/s eta 0:00:01\n",
      "     -------------------------------------- - 14.4/14.9 MB 5.8 MB/s eta 0:00:01\n",
      "     ---------------------------------------- 14.9/14.9 MB 5.6 MB/s eta 0:00:00\n",
      "Requirement already satisfied: torch==1.10.1 in d:\\anaconda\\anaconda\\envs\\mnist_hdwritten_rec\\lib\\site-packages (from torchvision==0.11.2+cu102) (1.10.1+cu102)\n",
      "Collecting pillow!=8.3.0,>=5.3.0 (from torchvision==0.11.2+cu102)\n",
      "  Downloading http://mirrors.aliyun.com/pypi/packages/f2/75/3cb820b2812405fc7feb3d0deb701ef0c3de93dc02597115e00704591bc9/pillow-10.4.0-cp38-cp38-win_amd64.whl (2.6 MB)\n",
      "     ---------------------------------------- 0.0/2.6 MB ? eta -:--:--\n",
      "     ---------------- ----------------------- 1.0/2.6 MB 5.0 MB/s eta 0:00:01\n",
      "     ---------------------------------------- 2.6/2.6 MB 6.4 MB/s eta 0:00:00\n",
      "Requirement already satisfied: typing-extensions in d:\\anaconda\\anaconda\\envs\\mnist_hdwritten_rec\\lib\\site-packages (from torch==1.10.1->torchvision==0.11.2+cu102) (4.12.2)\n",
      "Installing collected packages: pillow, numpy, torchvision\n",
      "Successfully installed numpy-1.24.4 pillow-10.4.0 torchvision-0.11.2+cu102\n",
      "Note: you may need to restart the kernel to use updated packages.\n"
     ]
    }
   ],
   "execution_count": 1
  },
  {
   "metadata": {},
   "cell_type": "markdown",
   "source": "测试是否安装成功:"
  },
  {
   "metadata": {
    "ExecuteTime": {
     "end_time": "2025-03-01T08:16:56.498187Z",
     "start_time": "2025-03-01T08:16:54.413558Z"
    }
   },
   "cell_type": "code",
   "source": [
    "import torch\n",
    "import torchvision\n",
    "print('Pytorch version:', torch.__version__)\n",
    "print('CUDA is available?:', torch.cuda.is_available())"
   ],
   "outputs": [
    {
     "name": "stderr",
     "output_type": "stream",
     "text": [
      "D:\\Anaconda\\anaconda\\envs\\mnist_hdwritten_rec\\lib\\site-packages\\torchvision\\io\\image.py:11: UserWarning: Failed to load image Python extension: Could not find module 'D:\\Anaconda\\anaconda\\envs\\mnist_hdwritten_rec\\Lib\\site-packages\\torchvision\\image.pyd' (or one of its dependencies). Try using the full path with constructor syntax.\n",
      "  warn(f\"Failed to load image Python extension: {e}\")\n"
     ]
    },
    {
     "name": "stdout",
     "output_type": "stream",
     "text": [
      "Pytorch version: 1.10.1+cu102\n",
      "CUDA is available?: True\n"
     ]
    }
   ],
   "execution_count": 3
  },
  {
   "metadata": {},
   "cell_type": "markdown",
   "source": "## 3. 安装其他依赖"
  },
  {
   "metadata": {
    "ExecuteTime": {
     "end_time": "2025-03-01T08:24:34.888676Z",
     "start_time": "2025-03-01T08:24:22.933331Z"
    }
   },
   "cell_type": "code",
   "source": [
    "%pip install pillow\n",
    "%pip install matplotlib"
   ],
   "outputs": [
    {
     "name": "stdout",
     "output_type": "stream",
     "text": [
      "Looking in indexes: http://mirrors.aliyun.com/pypi/simple/\n",
      "Requirement already satisfied: pillow in d:\\anaconda\\anaconda\\envs\\mnist_hdwritten_rec\\lib\\site-packages (10.4.0)\n",
      "Note: you may need to restart the kernel to use updated packages.\n",
      "Looking in indexes: http://mirrors.aliyun.com/pypi/simple/\n",
      "Collecting matplotlib\n",
      "  Downloading http://mirrors.aliyun.com/pypi/packages/16/51/58b0b9de42fe1e665736d9286f88b5f1556a0e22bed8a71f468231761083/matplotlib-3.7.5-cp38-cp38-win_amd64.whl (7.5 MB)\n",
      "     ---------------------------------------- 0.0/7.5 MB ? eta -:--:--\n",
      "     -------- ------------------------------- 1.6/7.5 MB 9.3 MB/s eta 0:00:01\n",
      "     ------------------ --------------------- 3.4/7.5 MB 8.7 MB/s eta 0:00:01\n",
      "     ------------------------- -------------- 4.7/7.5 MB 7.9 MB/s eta 0:00:01\n",
      "     ---------------------------------- ----- 6.6/7.5 MB 7.9 MB/s eta 0:00:01\n",
      "     ---------------------------------------- 7.5/7.5 MB 7.6 MB/s eta 0:00:00\n",
      "Collecting contourpy>=1.0.1 (from matplotlib)\n",
      "  Downloading http://mirrors.aliyun.com/pypi/packages/96/1b/b05cd42c8d21767a0488b883b38658fb9a45f86c293b7b42521a8113dc5d/contourpy-1.1.1-cp38-cp38-win_amd64.whl (477 kB)\n",
      "Collecting cycler>=0.10 (from matplotlib)\n",
      "  Downloading http://mirrors.aliyun.com/pypi/packages/e7/05/c19819d5e3d95294a6f5947fb9b9629efb316b96de511b418c53d245aae6/cycler-0.12.1-py3-none-any.whl (8.3 kB)\n",
      "Collecting fonttools>=4.22.0 (from matplotlib)\n",
      "  Downloading http://mirrors.aliyun.com/pypi/packages/e9/73/e0285a1cd25da20f1403a6dea54c116a6ccae6063f209a39793977dad03a/fonttools-4.56.0-cp38-cp38-win_amd64.whl (1.5 MB)\n",
      "     ---------------------------------------- 0.0/1.5 MB ? eta -:--:--\n",
      "     ---------------------------------------- 1.5/1.5 MB 9.0 MB/s eta 0:00:00\n",
      "Collecting kiwisolver>=1.0.1 (from matplotlib)\n",
      "  Downloading http://mirrors.aliyun.com/pypi/packages/52/77/7e04cca2ff1dc6ee6b7654cebe233de72b7a3ec5616501b6f3144fb70740/kiwisolver-1.4.7-cp38-cp38-win_amd64.whl (55 kB)\n",
      "Requirement already satisfied: numpy<2,>=1.20 in d:\\anaconda\\anaconda\\envs\\mnist_hdwritten_rec\\lib\\site-packages (from matplotlib) (1.24.4)\n",
      "Requirement already satisfied: packaging>=20.0 in d:\\anaconda\\anaconda\\envs\\mnist_hdwritten_rec\\lib\\site-packages (from matplotlib) (24.2)\n",
      "Requirement already satisfied: pillow>=6.2.0 in d:\\anaconda\\anaconda\\envs\\mnist_hdwritten_rec\\lib\\site-packages (from matplotlib) (10.4.0)\n",
      "Collecting pyparsing>=2.3.1 (from matplotlib)\n",
      "  Downloading http://mirrors.aliyun.com/pypi/packages/e5/0c/0e3c05b1c87bb6a1c76d281b0f35e78d2d80ac91b5f8f524cebf77f51049/pyparsing-3.1.4-py3-none-any.whl (104 kB)\n",
      "Requirement already satisfied: python-dateutil>=2.7 in d:\\anaconda\\anaconda\\envs\\mnist_hdwritten_rec\\lib\\site-packages (from matplotlib) (2.9.0.post0)\n",
      "Requirement already satisfied: importlib-resources>=3.2.0 in d:\\anaconda\\anaconda\\envs\\mnist_hdwritten_rec\\lib\\site-packages (from matplotlib) (6.4.5)\n",
      "Requirement already satisfied: zipp>=3.1.0 in d:\\anaconda\\anaconda\\envs\\mnist_hdwritten_rec\\lib\\site-packages (from importlib-resources>=3.2.0->matplotlib) (3.20.2)\n",
      "Requirement already satisfied: six>=1.5 in d:\\anaconda\\anaconda\\envs\\mnist_hdwritten_rec\\lib\\site-packages (from python-dateutil>=2.7->matplotlib) (1.17.0)\n",
      "Installing collected packages: pyparsing, kiwisolver, fonttools, cycler, contourpy, matplotlib\n",
      "Successfully installed contourpy-1.1.1 cycler-0.12.1 fonttools-4.56.0 kiwisolver-1.4.7 matplotlib-3.7.5 pyparsing-3.1.4\n",
      "Note: you may need to restart the kernel to use updated packages.\n"
     ]
    }
   ],
   "execution_count": 5
  }
 ],
 "metadata": {
  "kernelspec": {
   "display_name": "Python 3",
   "language": "python",
   "name": "python3"
  },
  "language_info": {
   "codemirror_mode": {
    "name": "ipython",
    "version": 3
   },
   "file_extension": ".py",
   "mimetype": "text/x-python",
   "name": "python",
   "nbconvert_exporter": "python",
   "pygments_lexer": "ipython3",
   "version": "3.9.21"
  }
 },
 "nbformat": 4,
 "nbformat_minor": 2
}
